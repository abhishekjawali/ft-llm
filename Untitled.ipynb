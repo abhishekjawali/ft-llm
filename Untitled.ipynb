{
 "cells": [
  {
   "cell_type": "code",
   "execution_count": 1,
   "id": "901360c6-cdce-4d9b-a510-e9c088b8f09b",
   "metadata": {
    "tags": []
   },
   "outputs": [
    {
     "ename": "ModuleNotFoundError",
     "evalue": "No module named 'edgar'",
     "output_type": "error",
     "traceback": [
      "\u001b[0;31m---------------------------------------------------------------------------\u001b[0m",
      "\u001b[0;31mModuleNotFoundError\u001b[0m                       Traceback (most recent call last)",
      "Cell \u001b[0;32mIn[1], line 1\u001b[0m\n\u001b[0;32m----> 1\u001b[0m \u001b[38;5;28;01mfrom\u001b[39;00m \u001b[38;5;21;01medgar\u001b[39;00m \u001b[38;5;28;01mimport\u001b[39;00m set_identity\n",
      "\u001b[0;31mModuleNotFoundError\u001b[0m: No module named 'edgar'"
     ]
    }
   ],
   "source": [
    "from edgar import set_identity"
   ]
  },
  {
   "cell_type": "code",
   "execution_count": 2,
   "id": "c0264e11-48fc-4380-8c28-78fd0390e5e9",
   "metadata": {
    "tags": []
   },
   "outputs": [
    {
     "name": "stdout",
     "output_type": "stream",
     "text": [
      "Looking in indexes: https://pypi.org/simple, https://pip.repos.neuron.amazonaws.com\n",
      "Collecting edgartools\n",
      "  Using cached edgartools-2.3.1-py3-none-any.whl (269 kB)\n",
      "Requirement already satisfied: beautifulsoup4>=4.10.0 in /home/ec2-user/anaconda3/envs/python3/lib/python3.10/site-packages (from edgartools) (4.12.2)\n",
      "Requirement already satisfied: charset-normalizer>=2.1.1 in /home/ec2-user/anaconda3/envs/python3/lib/python3.10/site-packages (from edgartools) (2.1.1)\n",
      "Collecting fastcore>=1.5.20 (from edgartools)\n",
      "  Using cached fastcore-1.5.29-py3-none-any.whl (67 kB)\n",
      "Collecting httpx>=0.23.1 (from edgartools)\n",
      "  Using cached httpx-0.25.0-py3-none-any.whl (75 kB)\n",
      "Collecting humanize>=4.0.0 (from edgartools)\n",
      "  Using cached humanize-4.8.0-py3-none-any.whl (117 kB)\n",
      "Collecting lxml>=4.4 (from edgartools)\n",
      "  Using cached lxml-4.9.3-cp310-cp310-manylinux_2_17_x86_64.manylinux2014_x86_64.manylinux_2_24_x86_64.whl (7.0 MB)\n",
      "Collecting markdownify>0.11.0 (from edgartools)\n",
      "  Using cached markdownify-0.11.6-py3-none-any.whl (16 kB)\n",
      "Requirement already satisfied: pandas>=1.3.0 in /home/ec2-user/anaconda3/envs/python3/lib/python3.10/site-packages (from edgartools) (2.0.1)\n",
      "Requirement already satisfied: pyarrow>=11.0.0 in /home/ec2-user/anaconda3/envs/python3/lib/python3.10/site-packages (from edgartools) (11.0.0)\n",
      "Collecting rank-bm25==0.2.1 (from edgartools)\n",
      "  Using cached rank_bm25-0.2.1-py3-none-any.whl (8.5 kB)\n",
      "Collecting retry>=0.9.2 (from edgartools)\n",
      "  Using cached retry-0.9.2-py2.py3-none-any.whl (8.0 kB)\n",
      "Collecting rich>=13.0.0 (from edgartools)\n",
      "  Using cached rich-13.6.0-py3-none-any.whl (239 kB)\n",
      "Requirement already satisfied: textdistance>=4.5.0 in /home/ec2-user/anaconda3/envs/python3/lib/python3.10/site-packages (from edgartools) (4.5.0)\n",
      "Collecting unstructured>=0.10.19 (from edgartools)\n",
      "  Using cached unstructured-0.10.24-py3-none-any.whl (1.7 MB)\n",
      "Requirement already satisfied: numpy in /home/ec2-user/anaconda3/envs/python3/lib/python3.10/site-packages (from rank-bm25==0.2.1->edgartools) (1.22.3)\n",
      "Requirement already satisfied: soupsieve>1.2 in /home/ec2-user/anaconda3/envs/python3/lib/python3.10/site-packages (from beautifulsoup4>=4.10.0->edgartools) (2.3.2.post1)\n",
      "Requirement already satisfied: pip in /home/ec2-user/anaconda3/envs/python3/lib/python3.10/site-packages (from fastcore>=1.5.20->edgartools) (23.1.2)\n",
      "Requirement already satisfied: packaging in /home/ec2-user/anaconda3/envs/python3/lib/python3.10/site-packages (from fastcore>=1.5.20->edgartools) (21.3)\n",
      "Requirement already satisfied: certifi in /home/ec2-user/anaconda3/envs/python3/lib/python3.10/site-packages (from httpx>=0.23.1->edgartools) (2023.5.7)\n",
      "Collecting httpcore<0.19.0,>=0.18.0 (from httpx>=0.23.1->edgartools)\n",
      "  Using cached httpcore-0.18.0-py3-none-any.whl (76 kB)\n",
      "Requirement already satisfied: idna in /home/ec2-user/anaconda3/envs/python3/lib/python3.10/site-packages (from httpx>=0.23.1->edgartools) (3.4)\n",
      "Requirement already satisfied: sniffio in /home/ec2-user/anaconda3/envs/python3/lib/python3.10/site-packages (from httpx>=0.23.1->edgartools) (1.3.0)\n",
      "Requirement already satisfied: six<2,>=1.15 in /home/ec2-user/anaconda3/envs/python3/lib/python3.10/site-packages (from markdownify>0.11.0->edgartools) (1.16.0)\n",
      "Requirement already satisfied: python-dateutil>=2.8.2 in /home/ec2-user/anaconda3/envs/python3/lib/python3.10/site-packages (from pandas>=1.3.0->edgartools) (2.8.2)\n",
      "Requirement already satisfied: pytz>=2020.1 in /home/ec2-user/anaconda3/envs/python3/lib/python3.10/site-packages (from pandas>=1.3.0->edgartools) (2023.3)\n",
      "Requirement already satisfied: tzdata>=2022.1 in /home/ec2-user/anaconda3/envs/python3/lib/python3.10/site-packages (from pandas>=1.3.0->edgartools) (2023.3)\n",
      "Requirement already satisfied: decorator>=3.4.2 in /home/ec2-user/anaconda3/envs/python3/lib/python3.10/site-packages (from retry>=0.9.2->edgartools) (5.1.1)\n",
      "Collecting py<2.0.0,>=1.4.26 (from retry>=0.9.2->edgartools)\n",
      "  Using cached py-1.11.0-py2.py3-none-any.whl (98 kB)\n",
      "Collecting markdown-it-py>=2.2.0 (from rich>=13.0.0->edgartools)\n",
      "  Using cached markdown_it_py-3.0.0-py3-none-any.whl (87 kB)\n",
      "Requirement already satisfied: pygments<3.0.0,>=2.13.0 in /home/ec2-user/anaconda3/envs/python3/lib/python3.10/site-packages (from rich>=13.0.0->edgartools) (2.15.1)\n",
      "Requirement already satisfied: chardet in /home/ec2-user/anaconda3/envs/python3/lib/python3.10/site-packages (from unstructured>=0.10.19->edgartools) (5.1.0)\n",
      "Collecting filetype (from unstructured>=0.10.19->edgartools)\n",
      "  Using cached filetype-1.2.0-py2.py3-none-any.whl (19 kB)\n",
      "Collecting python-magic (from unstructured>=0.10.19->edgartools)\n",
      "  Using cached python_magic-0.4.27-py2.py3-none-any.whl (13 kB)\n",
      "Requirement already satisfied: nltk in /home/ec2-user/anaconda3/envs/python3/lib/python3.10/site-packages (from unstructured>=0.10.19->edgartools) (3.8.1)\n",
      "Collecting tabulate (from unstructured>=0.10.19->edgartools)\n",
      "  Using cached tabulate-0.9.0-py3-none-any.whl (35 kB)\n",
      "Requirement already satisfied: requests in /home/ec2-user/anaconda3/envs/python3/lib/python3.10/site-packages (from unstructured>=0.10.19->edgartools) (2.29.0)\n",
      "Collecting emoji (from unstructured>=0.10.19->edgartools)\n",
      "  Using cached emoji-2.8.0-py2.py3-none-any.whl (358 kB)\n",
      "Collecting dataclasses-json (from unstructured>=0.10.19->edgartools)\n",
      "  Using cached dataclasses_json-0.6.1-py3-none-any.whl (27 kB)\n",
      "Collecting python-iso639 (from unstructured>=0.10.19->edgartools)\n",
      "  Using cached python_iso639-2023.6.15-py3-none-any.whl (275 kB)\n",
      "Collecting langdetect (from unstructured>=0.10.19->edgartools)\n",
      "  Using cached langdetect-1.0.9-py3-none-any.whl\n",
      "Collecting rapidfuzz (from unstructured>=0.10.19->edgartools)\n",
      "  Using cached rapidfuzz-3.4.0-cp310-cp310-manylinux_2_17_x86_64.manylinux2014_x86_64.whl (3.2 MB)\n",
      "Collecting backoff (from unstructured>=0.10.19->edgartools)\n",
      "  Using cached backoff-2.2.1-py3-none-any.whl (15 kB)\n",
      "Requirement already satisfied: anyio<5.0,>=3.0 in /home/ec2-user/anaconda3/envs/python3/lib/python3.10/site-packages (from httpcore<0.19.0,>=0.18.0->httpx>=0.23.1->edgartools) (3.6.2)\n",
      "Collecting h11<0.15,>=0.13 (from httpcore<0.19.0,>=0.18.0->httpx>=0.23.1->edgartools)\n",
      "  Using cached h11-0.14.0-py3-none-any.whl (58 kB)\n",
      "Collecting mdurl~=0.1 (from markdown-it-py>=2.2.0->rich>=13.0.0->edgartools)\n",
      "  Using cached mdurl-0.1.2-py3-none-any.whl (10.0 kB)\n",
      "Collecting marshmallow<4.0.0,>=3.18.0 (from dataclasses-json->unstructured>=0.10.19->edgartools)\n",
      "  Using cached marshmallow-3.20.1-py3-none-any.whl (49 kB)\n",
      "Collecting typing-inspect<1,>=0.4.0 (from dataclasses-json->unstructured>=0.10.19->edgartools)\n",
      "  Using cached typing_inspect-0.9.0-py3-none-any.whl (8.8 kB)\n",
      "Requirement already satisfied: click in /home/ec2-user/anaconda3/envs/python3/lib/python3.10/site-packages (from nltk->unstructured>=0.10.19->edgartools) (8.1.3)\n",
      "Requirement already satisfied: joblib in /home/ec2-user/anaconda3/envs/python3/lib/python3.10/site-packages (from nltk->unstructured>=0.10.19->edgartools) (1.2.0)\n",
      "Requirement already satisfied: regex>=2021.8.3 in /home/ec2-user/anaconda3/envs/python3/lib/python3.10/site-packages (from nltk->unstructured>=0.10.19->edgartools) (2023.5.5)\n",
      "Requirement already satisfied: tqdm in /home/ec2-user/anaconda3/envs/python3/lib/python3.10/site-packages (from nltk->unstructured>=0.10.19->edgartools) (4.65.0)\n",
      "Requirement already satisfied: pyparsing!=3.0.5,>=2.0.2 in /home/ec2-user/anaconda3/envs/python3/lib/python3.10/site-packages (from packaging->fastcore>=1.5.20->edgartools) (3.0.9)\n",
      "Requirement already satisfied: urllib3<1.27,>=1.21.1 in /home/ec2-user/anaconda3/envs/python3/lib/python3.10/site-packages (from requests->unstructured>=0.10.19->edgartools) (1.26.14)\n",
      "Requirement already satisfied: mypy-extensions>=0.3.0 in /home/ec2-user/anaconda3/envs/python3/lib/python3.10/site-packages (from typing-inspect<1,>=0.4.0->dataclasses-json->unstructured>=0.10.19->edgartools) (1.0.0)\n",
      "Requirement already satisfied: typing-extensions>=3.7.4 in /home/ec2-user/anaconda3/envs/python3/lib/python3.10/site-packages (from typing-inspect<1,>=0.4.0->dataclasses-json->unstructured>=0.10.19->edgartools) (4.5.0)\n",
      "Installing collected packages: filetype, typing-inspect, tabulate, rapidfuzz, rank-bm25, python-magic, python-iso639, py, mdurl, lxml, langdetect, humanize, h11, emoji, backoff, retry, marshmallow, markdownify, markdown-it-py, httpcore, fastcore, rich, httpx, dataclasses-json, unstructured, edgartools\n",
      "Successfully installed backoff-2.2.1 dataclasses-json-0.6.1 edgartools-2.3.1 emoji-2.8.0 fastcore-1.5.29 filetype-1.2.0 h11-0.14.0 httpcore-0.18.0 httpx-0.25.0 humanize-4.8.0 langdetect-1.0.9 lxml-4.9.3 markdown-it-py-3.0.0 markdownify-0.11.6 marshmallow-3.20.1 mdurl-0.1.2 py-1.11.0 python-iso639-2023.6.15 python-magic-0.4.27 rank-bm25-0.2.1 rapidfuzz-3.4.0 retry-0.9.2 rich-13.6.0 tabulate-0.9.0 typing-inspect-0.9.0 unstructured-0.10.24\n",
      "Note: you may need to restart the kernel to use updated packages.\n"
     ]
    }
   ],
   "source": [
    "pip install edgartools"
   ]
  },
  {
   "cell_type": "code",
   "execution_count": 3,
   "id": "8ad2300a-50ed-475c-9311-bb800e11a560",
   "metadata": {
    "tags": []
   },
   "outputs": [],
   "source": [
    "from edgar import set_identity"
   ]
  },
  {
   "cell_type": "code",
   "execution_count": 4,
   "id": "90081247-cf93-4025-8dec-2279fc4c56bd",
   "metadata": {
    "tags": []
   },
   "outputs": [
    {
     "data": {
      "text/html": [
       "<pre style=\"white-space:pre;overflow-x:auto;line-height:normal;font-family:Menlo,'DejaVu Sans Mono',consolas,'Courier New',monospace\"><span style=\"color: #7fbfbf; text-decoration-color: #7fbfbf\">[12:27:03] </span><span style=\"color: #000080; text-decoration-color: #000080\">INFO    </span> Identity of the Edgar REST client set to <span style=\"font-weight: bold\">[</span>FirstName LastName youremail@domain.com<span style=\"font-weight: bold\">]</span>  <a href=\"file:///home/ec2-user/anaconda3/envs/python3/lib/python3.10/site-packages/edgar/core.py\" target=\"_blank\"><span style=\"color: #7f7f7f; text-decoration-color: #7f7f7f\">core.py</span></a><span style=\"color: #7f7f7f; text-decoration-color: #7f7f7f\">:</span><a href=\"file:///home/ec2-user/anaconda3/envs/python3/lib/python3.10/site-packages/edgar/core.py#141\" target=\"_blank\"><span style=\"color: #7f7f7f; text-decoration-color: #7f7f7f\">141</span></a>\n",
       "</pre>\n"
      ],
      "text/plain": [
       "\u001b[2;36m[12:27:03]\u001b[0m\u001b[2;36m \u001b[0m\u001b[34mINFO    \u001b[0m Identity of the Edgar REST client set to \u001b[1m[\u001b[0mFirstName LastName youremail@domain.com\u001b[1m]\u001b[0m  \u001b]8;id=775402;file:///home/ec2-user/anaconda3/envs/python3/lib/python3.10/site-packages/edgar/core.py\u001b\\\u001b[2mcore.py\u001b[0m\u001b]8;;\u001b\\\u001b[2m:\u001b[0m\u001b]8;id=409164;file:///home/ec2-user/anaconda3/envs/python3/lib/python3.10/site-packages/edgar/core.py#141\u001b\\\u001b[2m141\u001b[0m\u001b]8;;\u001b\\\n"
      ]
     },
     "metadata": {},
     "output_type": "display_data"
    }
   ],
   "source": [
    "set_identity(\"FirstName LastName youremail@domain.com\")"
   ]
  },
  {
   "cell_type": "code",
   "execution_count": 7,
   "id": "1c5879ef-d845-472f-9fc5-391260af7f68",
   "metadata": {
    "tags": []
   },
   "outputs": [],
   "source": [
    "from edgar import *"
   ]
  },
  {
   "cell_type": "code",
   "execution_count": 8,
   "id": "df5cda6d-f790-4ec4-8876-62544e1b1964",
   "metadata": {
    "tags": []
   },
   "outputs": [],
   "source": [
    "company = Company(\"AAPL\")"
   ]
  },
  {
   "cell_type": "code",
   "execution_count": 9,
   "id": "a1a1ed34-7048-4529-93ef-864049c3a8fb",
   "metadata": {
    "tags": []
   },
   "outputs": [
    {
     "data": {
      "text/html": [
       "<pre style=\"white-space:pre;overflow-x:auto;line-height:normal;font-family:Menlo,'DejaVu Sans Mono',consolas,'Courier New',monospace\"></pre>\n"
      ],
      "text/plain": []
     },
     "metadata": {},
     "output_type": "display_data"
    },
    {
     "data": {
      "text/plain": [
       "╭───────────────────────────────────────────────── Balance Sheet ─────────────────────────────────────────────────╮\n",
       "│ \u001b[1;38;5;39m                       Assets                       \u001b[0m                                                            │\n",
       "│ ╭───────────────────────────┬──────────────────────╮                                                            │\n",
       "│ │\u001b[1m \u001b[0m\u001b[1m                         \u001b[0m\u001b[1m \u001b[0m│\u001b[1m \u001b[0m\u001b[1m                    \u001b[0m\u001b[1m \u001b[0m│                                                            │\n",
       "│ ├───────────────────────────┼──────────────────────┤                                                            │\n",
       "│ │ Cash and Cash Equivalents │      $23,646,000,000 │                                                            │\n",
       "│ │ Short Term Investments    │      $24,658,000,000 │                                                            │\n",
       "│ │ Accounts Receivable       │      $28,184,000,000 │                                                            │\n",
       "│ │ Inventories               │       $4,946,000,000 │                                                            │\n",
       "│ │ Other Current Assets      │      $21,223,000,000 │                                                            │\n",
       "│ │ Current Assets            │     $135,405,000,000 │                                                            │\n",
       "│ │ Total Assets              │     $352,755,000,000 │                                                            │\n",
       "│ ╰───────────────────────────┴──────────────────────╯                                                            │\n",
       "│ \u001b[1;38;5;39m      Liabilities and Shareholders Equity       \u001b[0m                                                                │\n",
       "│ ╭───────────────────────┬──────────────────────╮                                                                │\n",
       "│ │\u001b[1m \u001b[0m\u001b[1m                     \u001b[0m\u001b[1m \u001b[0m│\u001b[1m \u001b[0m\u001b[1m                    \u001b[0m\u001b[1m \u001b[0m│                                                                │\n",
       "│ ├───────────────────────┼──────────────────────┤                                                                │\n",
       "│ │ Current Liabilities   │     $153,982,000,000 │                                                                │\n",
       "│ │ LiabilitiesNoncurrent │     $148,101,000,000 │                                                                │\n",
       "│ │ Total Liabilities     │     $302,083,000,000 │                                                                │\n",
       "│ │ Stockholders Equity   │      $50,672,000,000 │                                                                │\n",
       "│ │ Liabilities & Equity  │     $352,755,000,000 │                                                                │\n",
       "│ ╰───────────────────────┴──────────────────────╯                                                                │\n",
       "╰─────────────────────────────────────────────────────────────────────────────────────────────────────────────────╯"
      ]
     },
     "execution_count": 9,
     "metadata": {},
     "output_type": "execute_result"
    }
   ],
   "source": [
    "company.financials.balance_sheet"
   ]
  },
  {
   "cell_type": "code",
   "execution_count": 13,
   "id": "333c115e-b210-4643-a224-b93f38428558",
   "metadata": {
    "tags": []
   },
   "outputs": [],
   "source": [
    "company = Company(\"AMZN\")"
   ]
  },
  {
   "cell_type": "code",
   "execution_count": 14,
   "id": "cb0582b1-1642-4aef-b27d-636c419bf9dc",
   "metadata": {
    "tags": []
   },
   "outputs": [
    {
     "data": {
      "text/plain": [
       "'<!DOCTYPE html PUBLIC \"-//W3C//DTD HTML 4.01 Transitional//EN\" \"http://www.w3.org/TR/html4/loose.dtd\">\\n<html xmlns:n2=\"http://www.sec.gov/edgar/document/thirteenf/informationtable\" xmlns:n1=\"http://www.sec.gov/edgar/thirteenffiler\" xmlns:ns1=\"http://www.sec.gov/edgar/common\" xmlns:xsi=\"http://www.w3.org/2001/XMLSchema-instance\">\\n<head>\\n<meta http-equiv=\"Content-Type\" content=\"text/html; charset=UTF-8\">\\n<title>SEC FORM 13F-HR</title>\\n<style type=\"text/css\">\\n              .FormData {color: blue; background-color: white; font-size: small; font-family: Times, serif;}\\n              .FormDataC {color: blue; background-color: white; font-size: small; font-family: Times, serif; text-align: center;}\\n              .FormDataR {color: blue; background-color: white; font-size: small; font-family: Times, serif; text-align: right;}\\n              .SmallFormData {color: blue; background-color: white; font-size: x-small; font-family: Times, serif;}\\n              .FootnoteData {color: green; background-color: white; font-size: x-small; font-family: Times, serif;}\\n              .FormNumText {font-size: small; font-weight: bold; font-family: arial, helvetica, sans-serif;}\\n              .FormAttention {font-size: medium; font-weight: bold; font-family: helvetica;}\\n              .FormText {font-size: small; font-weight: normal; font-family: arial, helvetica, sans-serif; text-align: left;}\\n              .FormTextR {font-size: small; font-weight: normal; font-family: arial, helvetica, sans-serif; text-align: right;}\\n              .FormTextC {font-size: small; font-weight: normal; font-family: arial, helvetica, sans-serif; text-align: center;}\\n              .FormEMText {font-size: medium; font-style: italic; font-weight: normal; font-family: arial, helvetica, sans-serif;}\\n              .FormULText {font-size: medium; text-decoration: underline; font-weight: normal; font-family: arial, helvetica, sans-serif;}\\n              .SmallFormText {font-size: xx-small; font-family: arial, helvetica, sans-serif; text-align: left;}\\n              .SmallFormTextR {font-size: xx-small; font-family: arial, helvetica, sans-serif; text-align: right;}\\n              .SmallFormTextC {font-size: xx-small; font-family: arial, helvetica, sans-serif; text-align: center;}\\n              .MedSmallFormText {font-size: x-small; font-family: arial, helvetica, sans-serif; text-align: left;}\\n              .FormTitle {font-size: medium; font-family: arial, helvetica, sans-serif; font-weight: bold;}\\n              .FormTitle1 {font-size: small; font-family: arial, helvetica, sans-serif; font-weight: bold; border-top: black thick solid;}\\n              .FormTitle2 {font-size: small; font-family: arial, helvetica, sans-serif; font-weight: bold;}\\n              .FormTitle3 {font-size: small; font-family: arial, helvetica, sans-serif; font-weight: bold; padding-top: 2em; padding-bottom: 1em;}\\n              .SectionTitle {font-size: small; text-align: left; font-family: arial, helvetica, sans-serif; \\n              \\t\\tfont-weight: bold; border-top: gray thin solid; border-bottom: gray thin solid;}\\n              .FormName {font-size: large; font-family: arial, helvetica, sans-serif; font-weight: bold;}\\n              .CheckBox {text-align: center; width: 5px; cell-spacing: 0; padding: 0 3 0 3; border-width: thin; border-style: solid;  border-color: black:}\\n              body {background: white;}\\n      </style>\\n</head>\\n<body>\\n<table width=\"100%\" border=\"0\" cellspacing=\"0\" cellpadding=\"4\" summary=\"Form 13F-HR Header Information\">\\n<tr><td colspan=\"4\" style=\"border: solid;text-align: center;\"><p>The Securities and Exchange Commission has not necessarily reviewed the information in this filing and has not determined if it is accurate and complete.<br>The reader should not assume that the information is accurate and complete.</p></td></tr>\\n<tr>\\n<td width=\"10%\" colspan=\"2\" valign=\"top\" align=\"left\"></td>\\n<td rowspan=\"1\" width=\"70%\" valign=\"middle\" align=\"center\">\\n<span class=\"FormTitle\">UNITED STATES SECURITIES AND EXCHANGE COMMISSION</span><br><span class=\"FormText\">Washington, D.C. 20549</span><br><span class=\"FormTitle\">FORM 13F</span><br><br><span class=\"FormTitle\">FORM 13F COVER PAGE</span><br><br>\\n</td>\\n<td rowspan=\"1\" width=\"20%\" valign=\"top\" align=\"center\"><table width=\"100%\" border=\"1\" summary=\"OMB Approval Status Box\">\\n<tr><td class=\"FormTextC\">OMB APPROVAL</td></tr>\\n<tr><td><table width=\"100%\" border=\"0\" summary=\"OMB Interior Box\">\\n<tr>\\n<td class=\"SmallFormText\" colspan=\"3\">OMB Number:</td>\\n<td class=\"SmallFormTextR\">3235-0006</td>\\n</tr>\\n<tr><td class=\"SmallFormText\" colspan=\"4\">Estimated average burden</td></tr>\\n<tr>\\n<td class=\"SmallFormText\" colspan=\"3\">hours per response:</td>\\n<td class=\"SmallFormTextR\">23.8</td>\\n</tr>\\n</table></td></tr>\\n</table></td>\\n</tr>\\n</table>\\n<hr>\\n<table border=\"0\" summary=\"Calendar Year or Quarter End\"><tbody><tr>\\n<td class=\"FormText\">Report for the Calendar Year or Quarter Ended:</td>\\n<td class=\"FormDataR\">09-30-2023</td>\\n</tr></tbody></table>\\n<table border=\"0\" summary=\"Amendment Information\"><tbody>\\n<tr>\\n<td class=\"FormText\">Check here if Amendment</td>\\n<td class=\"CheckBox\">\\xa0\\xa0</td>\\n<td class=\"FormText\">Amendment Number:</td>\\n</tr>\\n<tr>\\n<td class=\"FormText\">This Amendment (Check only one.):</td>\\n<td class=\"CheckBox\">\\xa0\\xa0</td>\\n<td class=\"FormText\">is a restatement.</td>\\n</tr>\\n<tr>\\n<td></td>\\n<td class=\"CheckBox\">\\xa0\\xa0</td>\\n<td class=\"FormText\">adds new holdings entries.</td>\\n</tr>\\n</tbody></table>\\n<table border=\"0\" summary=\"Filing Manager Information\" width=\"50%\"><tbody>\\n<tr><td colspan=\"2\" class=\"FormTitle3\">Institutional Investment Manager Filing this Report:</td></tr>\\n<tr>\\n<td width=\"30%\" class=\"FormText\">Name:</td>\\n<td class=\"FormData\">AMAZON COM INC</td>\\n</tr>\\n<tr>\\n<td width=\"30%\" class=\"FormText\">Address:</td>\\n<td class=\"FormData\">410 Terry Avenue North</td>\\n</tr>\\n<tr><td></td></tr>\\n<tr>\\n<td></td>\\n<td>\\n<span class=\"FormData\">Seattle</span>, \\n               <span class=\"FormData\">WA</span>\\xa0\\n               <span class=\"FormData\">98109</span>\\n</td>\\n</tr>\\n<tr>\\n<td width=\"50%\" class=\"FormText\">Form 13F File Number:</td>\\n<td class=\"FormData\">028-20693</td>\\n</tr>\\n<tr><td width=\"50%\" class=\"FormText\">CRD Number (if applicable):</td></tr>\\n<tr><td width=\"50%\" class=\"FormText\">SEC File Number (if applicable):</td></tr>\\n</tbody></table>\\n<p class=\"FormTitle3\">The institutional investment manager filing this report and the person by whom it is signed hereby represent that the person signing the report is authorized to submit it, that all information contained herein is true, correct and complete, and that it is understood that all required items, statements, schedules, lists, and tables, are considered integral parts of this form.</p>\\n<table width=\"50%\" border=\"0\" summary=\"Signature Block Information\"><tbody>\\n<tr><td colspan=\"5\" class=\"FormText\">Person Signing this Report on Behalf of Reporting Manager:</td></tr>\\n<tr>\\n<td width=\"30%\" colspan=\"2\" class=\"FormText\">Name:</td>\\n<td colspan=\"3\"><span class=\"FormData\">David A. Zapolsky</span></td>\\n</tr>\\n<tr>\\n<td class=\"FormText\" colspan=\"2\">Title:</td>\\n<td colspan=\"3\"><span class=\"FormData\">Senior Vice President</span></td>\\n</tr>\\n<tr>\\n<td class=\"FormText\" colspan=\"2\">Phone:</td>\\n<td colspan=\"3\"><span class=\"FormData\">206-266-1000</span></td>\\n</tr>\\n<tr><td colspan=\"5\" class=\"FormTitle3\">Signature, Place, and Date of Signing:</td></tr>\\n<tr>\\n<td width=\"50%\" colspan=\"3\" class=\"FormData\"><span class=\"FormData\">/s/ David A. Zapolsky</span></td>\\n<td class=\"FormData\">\\n<span class=\"FormData\">Seattle</span>,\\xa0\\n                  <span class=\"FormData\">WA</span>\\n</td>\\n<td class=\"FormData\">10-18-2023</td>\\n</tr>\\n<tr>\\n<td colspan=\"3\" class=\"FormTextC\" align=\"center\">[Signature]</td>\\n<td class=\"FormTextC\" align=\"center\">[City, State]</td>\\n<td class=\"FormTextC\" align=\"center\">[Date]</td>\\n</tr>\\n<tr><td colspan=\"5\" style=\"padding-top: 2em;\"></td></tr>\\n</tbody></table>\\n<table border=\"0\" summary=\"Report Type Information\"><tbody>\\n<tr><td colspan=\"2\" class=\"FormTitle3\">Report Type (Check only one.):</td></tr>\\n<tr>\\n<td class=\"CheckBox\"><span class=\"FormData\">X</span></td>\\n<td class=\"FormText\">13F HOLDINGS REPORT. (Check here if all holdings of this reporting manager are reported in this report.)</td>\\n</tr>\\n<tr>\\n<td class=\"CheckBox\">\\xa0\\xa0</td>\\n<td class=\"FormText\">13F NOTICE. (Check here if no holdings reported are in this report, and all holdings are reported by other reporting manager(s).)</td>\\n</tr>\\n<tr>\\n<td class=\"CheckBox\">\\xa0\\xa0</td>\\n<td class=\"FormText\">13F COMBINATION REPORT. (Check here if a portion of the holdings for this reporting manager are reported in this report and a portion are reported by other reporting manager(s).)</td>\\n</tr>\\n</tbody></table>\\n<table width=\"100%\" border=\"0\" summary=\"Report Summary Information\"><tbody>\\n<tr><td colspan=\"6\" align=\"center\" class=\"FormTitle\">Form 13F Summary Page</td></tr>\\n<tr>\\n<td width=\"1%\"></td>\\n<td colspan=\"5\" class=\"FormTitle3\">Report Summary:</td>\\n</tr>\\n<tr>\\n<td></td>\\n<td width=\"30%\" colspan=\"2\" class=\"FormText\">Number of Other Included Managers:</td>\\n<td width=\"10%\" align=\"right\"><span class=\"FormData\">0</span></td>\\n<td></td>\\n<td></td>\\n</tr>\\n<tr>\\n<td></td>\\n<td colspan=\"2\" class=\"FormText\">Form 13F Information Table Entry Total:</td>\\n<td align=\"right\"><span class=\"FormData\">9</span></td>\\n</tr>\\n<tr>\\n<td></td>\\n<td colspan=\"2\" class=\"FormText\">Form 13F Information Table Value Total:</td>\\n<td align=\"right\"><span class=\"FormData\">4,280,330,041</span></td>\\n</tr>\\n<tr>\\n<td colspan=\"3\"></td>\\n<td class=\"FormTextC\">(round to nearest dollar)</td>\\n</tr>\\n<tr></tr>\\n</tbody></table>\\n<table width=\"100%\" border=\"0\" summary=\"Report Summary Other Included Managers\"><tbody>\\n<tr><td width=\"100%\" colspan=\"4\" class=\"FormTitle3\">List of Other Included Managers:</td></tr>\\n<tr><td colspan=\"4\" class=\"FormText\">Provide a numbered list of the name(s) and Form 13F file number(s) \\n               of all institutional investment managers with respect to which this report is filed, other than the \\n               manager filing this report.</td></tr>\\n<tr><td colspan=\"4\" class=\"FormText\">[If there are no entries in this list, state “NONE” and omit the \\n               column headings and list entries.]</td></tr>\\n<tr><td class=\"FormText\">NONE</td></tr>\\n</tbody></table>\\n<hr>\\n</body>\\n</html>\\n'"
      ]
     },
     "execution_count": 14,
     "metadata": {},
     "output_type": "execute_result"
    }
   ],
   "source": [
    "company.get_filings(form=\"13F-HR\")[0].html()"
   ]
  },
  {
   "cell_type": "code",
   "execution_count": null,
   "id": "e8522045-1c08-4ce1-9921-e780e287aafa",
   "metadata": {},
   "outputs": [],
   "source": []
  }
 ],
 "metadata": {
  "kernelspec": {
   "display_name": "conda_python3",
   "language": "python",
   "name": "conda_python3"
  },
  "language_info": {
   "codemirror_mode": {
    "name": "ipython",
    "version": 3
   },
   "file_extension": ".py",
   "mimetype": "text/x-python",
   "name": "python",
   "nbconvert_exporter": "python",
   "pygments_lexer": "ipython3",
   "version": "3.10.10"
  }
 },
 "nbformat": 4,
 "nbformat_minor": 5
}
